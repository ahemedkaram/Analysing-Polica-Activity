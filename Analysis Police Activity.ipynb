{
 "cells": [
  {
   "cell_type": "code",
   "execution_count": 64,
   "metadata": {},
   "outputs": [],
   "source": [
    "# importing needy libraries\n",
    "import pandas as pd\n",
    "import numpy as np\n",
    "import matplotlib.pyplot as plt"
   ]
  },
  {
   "cell_type": "code",
   "execution_count": 65,
   "metadata": {},
   "outputs": [
    {
     "name": "stderr",
     "output_type": "stream",
     "text": [
      "C:\\Users\\ahmed\\anaconda3\\anaconda4\\lib\\site-packages\\IPython\\core\\interactiveshell.py:3146: DtypeWarning: Columns (6,17,30) have mixed types.Specify dtype option on import or set low_memory=False.\n",
      "  has_raised = await self.run_ast_nodes(code_ast.body, cell_name,\n"
     ]
    },
    {
     "data": {
      "text/html": [
       "<div>\n",
       "<style scoped>\n",
       "    .dataframe tbody tr th:only-of-type {\n",
       "        vertical-align: middle;\n",
       "    }\n",
       "\n",
       "    .dataframe tbody tr th {\n",
       "        vertical-align: top;\n",
       "    }\n",
       "\n",
       "    .dataframe thead th {\n",
       "        text-align: right;\n",
       "    }\n",
       "</style>\n",
       "<table border=\"1\" class=\"dataframe\">\n",
       "  <thead>\n",
       "    <tr style=\"text-align: right;\">\n",
       "      <th></th>\n",
       "      <th>raw_row_number</th>\n",
       "      <th>date</th>\n",
       "      <th>time</th>\n",
       "      <th>zone</th>\n",
       "      <th>subject_race</th>\n",
       "      <th>subject_sex</th>\n",
       "      <th>department_id</th>\n",
       "      <th>type</th>\n",
       "      <th>arrest_made</th>\n",
       "      <th>citation_issued</th>\n",
       "      <th>...</th>\n",
       "      <th>reason_for_stop</th>\n",
       "      <th>vehicle_make</th>\n",
       "      <th>vehicle_model</th>\n",
       "      <th>raw_BasisForStop</th>\n",
       "      <th>raw_OperatorRace</th>\n",
       "      <th>raw_OperatorSex</th>\n",
       "      <th>raw_ResultOfStop</th>\n",
       "      <th>raw_SearchResultOne</th>\n",
       "      <th>raw_SearchResultTwo</th>\n",
       "      <th>raw_SearchResultThree</th>\n",
       "    </tr>\n",
       "  </thead>\n",
       "  <tbody>\n",
       "    <tr>\n",
       "      <th>0</th>\n",
       "      <td>1</td>\n",
       "      <td>2005-11-22</td>\n",
       "      <td>11:15:00</td>\n",
       "      <td>X3</td>\n",
       "      <td>white</td>\n",
       "      <td>male</td>\n",
       "      <td>200</td>\n",
       "      <td>vehicular</td>\n",
       "      <td>False</td>\n",
       "      <td>True</td>\n",
       "      <td>...</td>\n",
       "      <td>Speeding</td>\n",
       "      <td>NaN</td>\n",
       "      <td>NaN</td>\n",
       "      <td>SP</td>\n",
       "      <td>W</td>\n",
       "      <td>M</td>\n",
       "      <td>M</td>\n",
       "      <td>NaN</td>\n",
       "      <td>NaN</td>\n",
       "      <td>NaN</td>\n",
       "    </tr>\n",
       "    <tr>\n",
       "      <th>1</th>\n",
       "      <td>2</td>\n",
       "      <td>2005-10-01</td>\n",
       "      <td>12:20:00</td>\n",
       "      <td>X3</td>\n",
       "      <td>white</td>\n",
       "      <td>male</td>\n",
       "      <td>200</td>\n",
       "      <td>vehicular</td>\n",
       "      <td>False</td>\n",
       "      <td>True</td>\n",
       "      <td>...</td>\n",
       "      <td>Speeding</td>\n",
       "      <td>NaN</td>\n",
       "      <td>NaN</td>\n",
       "      <td>SP</td>\n",
       "      <td>W</td>\n",
       "      <td>M</td>\n",
       "      <td>M</td>\n",
       "      <td>NaN</td>\n",
       "      <td>NaN</td>\n",
       "      <td>NaN</td>\n",
       "    </tr>\n",
       "    <tr>\n",
       "      <th>2</th>\n",
       "      <td>3</td>\n",
       "      <td>2005-10-01</td>\n",
       "      <td>12:30:00</td>\n",
       "      <td>X3</td>\n",
       "      <td>white</td>\n",
       "      <td>female</td>\n",
       "      <td>200</td>\n",
       "      <td>vehicular</td>\n",
       "      <td>False</td>\n",
       "      <td>True</td>\n",
       "      <td>...</td>\n",
       "      <td>Speeding</td>\n",
       "      <td>NaN</td>\n",
       "      <td>NaN</td>\n",
       "      <td>SP</td>\n",
       "      <td>W</td>\n",
       "      <td>F</td>\n",
       "      <td>M</td>\n",
       "      <td>NaN</td>\n",
       "      <td>NaN</td>\n",
       "      <td>NaN</td>\n",
       "    </tr>\n",
       "  </tbody>\n",
       "</table>\n",
       "<p>3 rows × 31 columns</p>\n",
       "</div>"
      ],
      "text/plain": [
       "   raw_row_number        date      time zone subject_race subject_sex  \\\n",
       "0               1  2005-11-22  11:15:00   X3        white        male   \n",
       "1               2  2005-10-01  12:20:00   X3        white        male   \n",
       "2               3  2005-10-01  12:30:00   X3        white      female   \n",
       "\n",
       "  department_id       type arrest_made citation_issued  ... reason_for_stop  \\\n",
       "0           200  vehicular       False            True  ...        Speeding   \n",
       "1           200  vehicular       False            True  ...        Speeding   \n",
       "2           200  vehicular       False            True  ...        Speeding   \n",
       "\n",
       "  vehicle_make vehicle_model raw_BasisForStop raw_OperatorRace  \\\n",
       "0          NaN           NaN               SP                W   \n",
       "1          NaN           NaN               SP                W   \n",
       "2          NaN           NaN               SP                W   \n",
       "\n",
       "  raw_OperatorSex raw_ResultOfStop raw_SearchResultOne  raw_SearchResultTwo  \\\n",
       "0               M                M                 NaN                  NaN   \n",
       "1               M                M                 NaN                  NaN   \n",
       "2               F                M                 NaN                  NaN   \n",
       "\n",
       "  raw_SearchResultThree  \n",
       "0                   NaN  \n",
       "1                   NaN  \n",
       "2                   NaN  \n",
       "\n",
       "[3 rows x 31 columns]"
      ]
     },
     "execution_count": 65,
     "metadata": {},
     "output_type": "execute_result"
    }
   ],
   "source": [
    "ri=pd.read_csv(r'E:\\Downloads\\Compressed\\yg821jf8611_ri_statewide_2020_04_01.csv\\ri_statewide_2020_04_01.csv')\n",
    "ri.head(3)"
   ]
  },
  {
   "cell_type": "code",
   "execution_count": 66,
   "metadata": {},
   "outputs": [
    {
     "data": {
      "text/plain": [
       "raw_row_number                0\n",
       "date                         10\n",
       "time                         10\n",
       "zone                         10\n",
       "subject_race              29073\n",
       "subject_sex               29097\n",
       "department_id                10\n",
       "type                          0\n",
       "arrest_made               29073\n",
       "citation_issued           29073\n",
       "warning_issued            29073\n",
       "outcome                   35841\n",
       "contraband_found         491919\n",
       "contraband_drugs         493693\n",
       "contraband_weapons       497886\n",
       "contraband_alcohol       508464\n",
       "contraband_other         491919\n",
       "frisk_performed              10\n",
       "search_conducted              0\n",
       "search_basis             491919\n",
       "reason_for_search        491919\n",
       "reason_for_stop           29073\n",
       "vehicle_make             191564\n",
       "vehicle_model            279593\n",
       "raw_BasisForStop          29073\n",
       "raw_OperatorRace          29073\n",
       "raw_OperatorSex           29073\n",
       "raw_ResultOfStop          29073\n",
       "raw_SearchResultOne      491919\n",
       "raw_SearchResultTwo      508862\n",
       "raw_SearchResultThree    509513\n",
       "dtype: int64"
      ]
     },
     "metadata": {},
     "output_type": "display_data"
    },
    {
     "data": {
      "text/plain": [
       "(509681, 31)"
      ]
     },
     "metadata": {},
     "output_type": "display_data"
    }
   ],
   "source": [
    "#display null values\n",
    "display(ri.isnull().sum())\n",
    "display(ri.shape)"
   ]
  },
  {
   "cell_type": "code",
   "execution_count": 67,
   "metadata": {},
   "outputs": [
    {
     "data": {
      "text/plain": [
       "(480584, 29)"
      ]
     },
     "execution_count": 67,
     "metadata": {},
     "output_type": "execute_result"
    }
   ],
   "source": [
    "#drop unnecessary data and any rows with no gender\n",
    "ri.drop(['raw_SearchResultThree','raw_SearchResultTwo'],axis='columns',inplace=True)\n",
    "ri.dropna(subset=['subject_sex'],inplace=True)\n",
    "ri.shape"
   ]
  },
  {
   "cell_type": "code",
   "execution_count": 68,
   "metadata": {},
   "outputs": [
    {
     "name": "stdout",
     "output_type": "stream",
     "text": [
      "raw_row_number              0\n",
      "date                        0\n",
      "time                        0\n",
      "zone                        0\n",
      "subject_race                0\n",
      "subject_sex                 0\n",
      "department_id               0\n",
      "type                        0\n",
      "arrest_made                 0\n",
      "citation_issued             0\n",
      "warning_issued              0\n",
      "outcome                  6763\n",
      "contraband_found       462822\n",
      "contraband_drugs       464596\n",
      "contraband_weapons     468789\n",
      "contraband_alcohol     479367\n",
      "contraband_other       462822\n",
      "frisk_performed             0\n",
      "search_conducted            0\n",
      "search_basis           462822\n",
      "reason_for_search      462822\n",
      "reason_for_stop             0\n",
      "vehicle_make           162525\n",
      "vehicle_model          250553\n",
      "raw_BasisForStop            0\n",
      "raw_OperatorRace            0\n",
      "raw_OperatorSex             0\n",
      "raw_ResultOfStop            0\n",
      "raw_SearchResultOne    462822\n",
      "dtype: int64\n"
     ]
    }
   ],
   "source": [
    "print(ri.isnull().sum())"
   ]
  },
  {
   "cell_type": "code",
   "execution_count": 69,
   "metadata": {},
   "outputs": [
    {
     "data": {
      "text/html": [
       "<div>\n",
       "<style scoped>\n",
       "    .dataframe tbody tr th:only-of-type {\n",
       "        vertical-align: middle;\n",
       "    }\n",
       "\n",
       "    .dataframe tbody tr th {\n",
       "        vertical-align: top;\n",
       "    }\n",
       "\n",
       "    .dataframe thead th {\n",
       "        text-align: right;\n",
       "    }\n",
       "</style>\n",
       "<table border=\"1\" class=\"dataframe\">\n",
       "  <thead>\n",
       "    <tr style=\"text-align: right;\">\n",
       "      <th></th>\n",
       "      <th>raw_row_number</th>\n",
       "      <th>date</th>\n",
       "      <th>time</th>\n",
       "      <th>zone</th>\n",
       "      <th>subject_race</th>\n",
       "      <th>subject_sex</th>\n",
       "      <th>department_id</th>\n",
       "      <th>type</th>\n",
       "      <th>arrest_made</th>\n",
       "      <th>citation_issued</th>\n",
       "      <th>...</th>\n",
       "      <th>search_basis</th>\n",
       "      <th>reason_for_search</th>\n",
       "      <th>reason_for_stop</th>\n",
       "      <th>vehicle_make</th>\n",
       "      <th>vehicle_model</th>\n",
       "      <th>raw_BasisForStop</th>\n",
       "      <th>raw_OperatorRace</th>\n",
       "      <th>raw_OperatorSex</th>\n",
       "      <th>raw_ResultOfStop</th>\n",
       "      <th>raw_SearchResultOne</th>\n",
       "    </tr>\n",
       "    <tr>\n",
       "      <th>date_time</th>\n",
       "      <th></th>\n",
       "      <th></th>\n",
       "      <th></th>\n",
       "      <th></th>\n",
       "      <th></th>\n",
       "      <th></th>\n",
       "      <th></th>\n",
       "      <th></th>\n",
       "      <th></th>\n",
       "      <th></th>\n",
       "      <th></th>\n",
       "      <th></th>\n",
       "      <th></th>\n",
       "      <th></th>\n",
       "      <th></th>\n",
       "      <th></th>\n",
       "      <th></th>\n",
       "      <th></th>\n",
       "      <th></th>\n",
       "      <th></th>\n",
       "      <th></th>\n",
       "    </tr>\n",
       "  </thead>\n",
       "  <tbody>\n",
       "    <tr>\n",
       "      <th>2005-11-22 11:15:00</th>\n",
       "      <td>1</td>\n",
       "      <td>2005-11-22</td>\n",
       "      <td>11:15:00</td>\n",
       "      <td>X3</td>\n",
       "      <td>white</td>\n",
       "      <td>male</td>\n",
       "      <td>200</td>\n",
       "      <td>vehicular</td>\n",
       "      <td>False</td>\n",
       "      <td>True</td>\n",
       "      <td>...</td>\n",
       "      <td>NaN</td>\n",
       "      <td>NaN</td>\n",
       "      <td>Speeding</td>\n",
       "      <td>NaN</td>\n",
       "      <td>NaN</td>\n",
       "      <td>SP</td>\n",
       "      <td>W</td>\n",
       "      <td>M</td>\n",
       "      <td>M</td>\n",
       "      <td>NaN</td>\n",
       "    </tr>\n",
       "    <tr>\n",
       "      <th>2005-10-01 12:20:00</th>\n",
       "      <td>2</td>\n",
       "      <td>2005-10-01</td>\n",
       "      <td>12:20:00</td>\n",
       "      <td>X3</td>\n",
       "      <td>white</td>\n",
       "      <td>male</td>\n",
       "      <td>200</td>\n",
       "      <td>vehicular</td>\n",
       "      <td>False</td>\n",
       "      <td>True</td>\n",
       "      <td>...</td>\n",
       "      <td>NaN</td>\n",
       "      <td>NaN</td>\n",
       "      <td>Speeding</td>\n",
       "      <td>NaN</td>\n",
       "      <td>NaN</td>\n",
       "      <td>SP</td>\n",
       "      <td>W</td>\n",
       "      <td>M</td>\n",
       "      <td>M</td>\n",
       "      <td>NaN</td>\n",
       "    </tr>\n",
       "    <tr>\n",
       "      <th>2005-10-01 12:30:00</th>\n",
       "      <td>3</td>\n",
       "      <td>2005-10-01</td>\n",
       "      <td>12:30:00</td>\n",
       "      <td>X3</td>\n",
       "      <td>white</td>\n",
       "      <td>female</td>\n",
       "      <td>200</td>\n",
       "      <td>vehicular</td>\n",
       "      <td>False</td>\n",
       "      <td>True</td>\n",
       "      <td>...</td>\n",
       "      <td>NaN</td>\n",
       "      <td>NaN</td>\n",
       "      <td>Speeding</td>\n",
       "      <td>NaN</td>\n",
       "      <td>NaN</td>\n",
       "      <td>SP</td>\n",
       "      <td>W</td>\n",
       "      <td>F</td>\n",
       "      <td>M</td>\n",
       "      <td>NaN</td>\n",
       "    </tr>\n",
       "    <tr>\n",
       "      <th>2005-10-01 12:50:00</th>\n",
       "      <td>4</td>\n",
       "      <td>2005-10-01</td>\n",
       "      <td>12:50:00</td>\n",
       "      <td>X3</td>\n",
       "      <td>white</td>\n",
       "      <td>male</td>\n",
       "      <td>200</td>\n",
       "      <td>vehicular</td>\n",
       "      <td>False</td>\n",
       "      <td>True</td>\n",
       "      <td>...</td>\n",
       "      <td>NaN</td>\n",
       "      <td>NaN</td>\n",
       "      <td>Speeding</td>\n",
       "      <td>NaN</td>\n",
       "      <td>NaN</td>\n",
       "      <td>SP</td>\n",
       "      <td>W</td>\n",
       "      <td>M</td>\n",
       "      <td>M</td>\n",
       "      <td>NaN</td>\n",
       "    </tr>\n",
       "    <tr>\n",
       "      <th>2005-10-01 13:10:00</th>\n",
       "      <td>5</td>\n",
       "      <td>2005-10-01</td>\n",
       "      <td>13:10:00</td>\n",
       "      <td>X3</td>\n",
       "      <td>white</td>\n",
       "      <td>female</td>\n",
       "      <td>200</td>\n",
       "      <td>vehicular</td>\n",
       "      <td>False</td>\n",
       "      <td>True</td>\n",
       "      <td>...</td>\n",
       "      <td>NaN</td>\n",
       "      <td>NaN</td>\n",
       "      <td>Speeding</td>\n",
       "      <td>NaN</td>\n",
       "      <td>NaN</td>\n",
       "      <td>SP</td>\n",
       "      <td>W</td>\n",
       "      <td>F</td>\n",
       "      <td>M</td>\n",
       "      <td>NaN</td>\n",
       "    </tr>\n",
       "  </tbody>\n",
       "</table>\n",
       "<p>5 rows × 29 columns</p>\n",
       "</div>"
      ],
      "text/plain": [
       "                     raw_row_number        date      time zone subject_race  \\\n",
       "date_time                                                                     \n",
       "2005-11-22 11:15:00               1  2005-11-22  11:15:00   X3        white   \n",
       "2005-10-01 12:20:00               2  2005-10-01  12:20:00   X3        white   \n",
       "2005-10-01 12:30:00               3  2005-10-01  12:30:00   X3        white   \n",
       "2005-10-01 12:50:00               4  2005-10-01  12:50:00   X3        white   \n",
       "2005-10-01 13:10:00               5  2005-10-01  13:10:00   X3        white   \n",
       "\n",
       "                    subject_sex department_id       type arrest_made  \\\n",
       "date_time                                                              \n",
       "2005-11-22 11:15:00        male           200  vehicular       False   \n",
       "2005-10-01 12:20:00        male           200  vehicular       False   \n",
       "2005-10-01 12:30:00      female           200  vehicular       False   \n",
       "2005-10-01 12:50:00        male           200  vehicular       False   \n",
       "2005-10-01 13:10:00      female           200  vehicular       False   \n",
       "\n",
       "                    citation_issued  ... search_basis reason_for_search  \\\n",
       "date_time                            ...                                  \n",
       "2005-11-22 11:15:00            True  ...          NaN               NaN   \n",
       "2005-10-01 12:20:00            True  ...          NaN               NaN   \n",
       "2005-10-01 12:30:00            True  ...          NaN               NaN   \n",
       "2005-10-01 12:50:00            True  ...          NaN               NaN   \n",
       "2005-10-01 13:10:00            True  ...          NaN               NaN   \n",
       "\n",
       "                    reason_for_stop vehicle_make vehicle_model  \\\n",
       "date_time                                                        \n",
       "2005-11-22 11:15:00        Speeding          NaN           NaN   \n",
       "2005-10-01 12:20:00        Speeding          NaN           NaN   \n",
       "2005-10-01 12:30:00        Speeding          NaN           NaN   \n",
       "2005-10-01 12:50:00        Speeding          NaN           NaN   \n",
       "2005-10-01 13:10:00        Speeding          NaN           NaN   \n",
       "\n",
       "                    raw_BasisForStop raw_OperatorRace raw_OperatorSex  \\\n",
       "date_time                                                               \n",
       "2005-11-22 11:15:00               SP                W               M   \n",
       "2005-10-01 12:20:00               SP                W               M   \n",
       "2005-10-01 12:30:00               SP                W               F   \n",
       "2005-10-01 12:50:00               SP                W               M   \n",
       "2005-10-01 13:10:00               SP                W               F   \n",
       "\n",
       "                     raw_ResultOfStop raw_SearchResultOne  \n",
       "date_time                                                  \n",
       "2005-11-22 11:15:00                 M                 NaN  \n",
       "2005-10-01 12:20:00                 M                 NaN  \n",
       "2005-10-01 12:30:00                 M                 NaN  \n",
       "2005-10-01 12:50:00                 M                 NaN  \n",
       "2005-10-01 13:10:00                 M                 NaN  \n",
       "\n",
       "[5 rows x 29 columns]"
      ]
     },
     "execution_count": 69,
     "metadata": {},
     "output_type": "execute_result"
    }
   ],
   "source": [
    "#settting datetime index to facilitate indexing\n",
    "combined=ri.date.str.cat(ri.time,sep=' ')\n",
    "ri['date_time']=pd.to_datetime(combined)\n",
    "ri.set_index('date_time',inplace=True)\n",
    "ri.head()"
   ]
  },
  {
   "cell_type": "code",
   "execution_count": 70,
   "metadata": {},
   "outputs": [
    {
     "data": {
      "text/plain": [
       "Speeding                            0.559186\n",
       "Other Traffic Violation             0.187747\n",
       "Equipment/Inspection Violation      0.127449\n",
       "Registration Violation              0.041262\n",
       "Seatbelt Violation                  0.033967\n",
       "Special Detail/Directed Patrol      0.028386\n",
       "Call for Service                    0.015824\n",
       "Violation of City/Town Ordinance    0.002156\n",
       "Motorist Assist/Courtesy            0.002058\n",
       "APB                                 0.001009\n",
       "Suspicious Person                   0.000712\n",
       "Warrant                             0.000243\n",
       "Name: reason_for_stop, dtype: float64"
      ]
     },
     "execution_count": 70,
     "metadata": {},
     "output_type": "execute_result"
    }
   ],
   "source": [
    "# DO genders commit different violations\n",
    "ri.reason_for_stop.value_counts(normalize=True)"
   ]
  },
  {
   "cell_type": "code",
   "execution_count": 71,
   "metadata": {},
   "outputs": [
    {
     "name": "stdout",
     "output_type": "stream",
     "text": [
      "Speeding                            0.522364\n",
      "Other Traffic Violation             0.206948\n",
      "Equipment/Inspection Violation      0.135102\n",
      "Registration Violation              0.040581\n",
      "Special Detail/Directed Patrol      0.037136\n",
      "Seatbelt Violation                  0.036555\n",
      "Call for Service                    0.014987\n",
      "Violation of City/Town Ordinance    0.002347\n",
      "Motorist Assist/Courtesy            0.001880\n",
      "APB                                 0.001076\n",
      "Suspicious Person                   0.000767\n",
      "Warrant                             0.000258\n",
      "Name: reason_for_stop, dtype: float64\n",
      "\n",
      "\n",
      "Speeding                            0.657308\n",
      "Other Traffic Violation             0.136581\n",
      "Equipment/Inspection Violation      0.107055\n",
      "Registration Violation              0.043077\n",
      "Seatbelt Violation                  0.027071\n",
      "Call for Service                    0.018057\n",
      "Special Detail/Directed Patrol      0.005071\n",
      "Motorist Assist/Courtesy            0.002532\n",
      "Violation of City/Town Ordinance    0.001647\n",
      "APB                                 0.000831\n",
      "Suspicious Person                   0.000564\n",
      "Warrant                             0.000206\n",
      "Name: reason_for_stop, dtype: float64\n"
     ]
    }
   ],
   "source": [
    "female=ri[ri.subject_sex=='female']\n",
    "male=ri[ri.subject_sex=='male']\n",
    "print(male.reason_for_stop.value_counts(normalize=True))\n",
    "print('\\n')\n",
    "print(female.reason_for_stop.value_counts(normalize=True))\n"
   ]
  },
  {
   "cell_type": "code",
   "execution_count": 72,
   "metadata": {},
   "outputs": [
    {
     "data": {
      "text/plain": [
       "subject_sex  reason_for_stop                 \n",
       "female       Speeding                            0.657308\n",
       "             Other Traffic Violation             0.136581\n",
       "             Equipment/Inspection Violation      0.107055\n",
       "             Registration Violation              0.043077\n",
       "             Seatbelt Violation                  0.027071\n",
       "             Call for Service                    0.018057\n",
       "             Special Detail/Directed Patrol      0.005071\n",
       "             Motorist Assist/Courtesy            0.002532\n",
       "             Violation of City/Town Ordinance    0.001647\n",
       "             APB                                 0.000831\n",
       "             Suspicious Person                   0.000564\n",
       "             Warrant                             0.000206\n",
       "male         Speeding                            0.522364\n",
       "             Other Traffic Violation             0.206948\n",
       "             Equipment/Inspection Violation      0.135102\n",
       "             Registration Violation              0.040581\n",
       "             Special Detail/Directed Patrol      0.037136\n",
       "             Seatbelt Violation                  0.036555\n",
       "             Call for Service                    0.014987\n",
       "             Violation of City/Town Ordinance    0.002347\n",
       "             Motorist Assist/Courtesy            0.001880\n",
       "             APB                                 0.001076\n",
       "             Suspicious Person                   0.000767\n",
       "             Warrant                             0.000258\n",
       "Name: reason_for_stop, dtype: float64"
      ]
     },
     "execution_count": 72,
     "metadata": {},
     "output_type": "execute_result"
    }
   ],
   "source": [
    "# another way\n",
    "ri.groupby('subject_sex')['reason_for_stop'].value_counts(normalize=True)"
   ]
  },
  {
   "cell_type": "code",
   "execution_count": 73,
   "metadata": {},
   "outputs": [
    {
     "data": {
      "text/plain": [
       "\"About two-thirds of female traffic stops are for speeding, \\nwhereas stops of males are more balanced among the six categories. \\nThis doesn't mean that females speed more often than males, however,\\nsince we didn't take into account the number of stops or drivers.\""
      ]
     },
     "execution_count": 73,
     "metadata": {},
     "output_type": "execute_result"
    }
   ],
   "source": [
    "'''About two-thirds of female traffic stops are for speeding, \n",
    "whereas stops of males are more balanced among the six categories. \n",
    "This doesn't mean that females speed more often than males, however,\n",
    "since we didn't take into account the number of stops or drivers.'''"
   ]
  },
  {
   "cell_type": "code",
   "execution_count": 74,
   "metadata": {},
   "outputs": [],
   "source": [
    "# Does gender affect who gets ticket for speeding"
   ]
  },
  {
   "cell_type": "code",
   "execution_count": 75,
   "metadata": {},
   "outputs": [
    {
     "name": "stdout",
     "output_type": "stream",
     "text": [
      "citation    0.954609\n",
      "warning     0.039059\n",
      "arrest      0.006332\n",
      "Name: outcome, dtype: float64\n",
      "\n",
      "\n",
      "citation    0.946763\n",
      "warning     0.036167\n",
      "arrest      0.017070\n",
      "Name: outcome, dtype: float64\n"
     ]
    }
   ],
   "source": [
    "# Create a DataFrame of female drivers stopped for speeding\n",
    "female_and_speeding = ri[(ri.subject_sex=='female')&(ri.reason_for_stop=='Speeding')]\n",
    "\n",
    "# Create a DataFrame of male drivers stopped for speeding\n",
    "male_and_speeding = ri[(ri.subject_sex=='male')&(ri.reason_for_stop=='Speeding')]\n",
    "\n",
    "# Compute the stop outcomes for female drivers\n",
    "print(female_and_speeding.outcome.value_counts(normalize=True))\n",
    "print('\\n')\n",
    "# Compute the stop outcomes for male drivers \n",
    "print(male_and_speeding.outcome.value_counts(normalize=True))"
   ]
  },
  {
   "cell_type": "code",
   "execution_count": 76,
   "metadata": {},
   "outputs": [
    {
     "data": {
      "text/plain": [
       "'gender has no impact who gets a ticket for speeding'"
      ]
     },
     "execution_count": 76,
     "metadata": {},
     "output_type": "execute_result"
    }
   ],
   "source": [
    "'''gender has no impact who gets a ticket for speeding'''"
   ]
  },
  {
   "cell_type": "code",
   "execution_count": 77,
   "metadata": {},
   "outputs": [
    {
     "data": {
      "text/plain": [
       "array([False,  True])"
      ]
     },
     "execution_count": 77,
     "metadata": {},
     "output_type": "execute_result"
    }
   ],
   "source": [
    "# Does gender affect who gets searched \n",
    "ri.search_conducted.unique()"
   ]
  },
  {
   "cell_type": "code",
   "execution_count": 78,
   "metadata": {},
   "outputs": [
    {
     "data": {
      "text/plain": [
       "subject_sex\n",
       "female    0.018751\n",
       "male      0.043792\n",
       "Name: search_conducted, dtype: float64"
      ]
     },
     "execution_count": 78,
     "metadata": {},
     "output_type": "execute_result"
    }
   ],
   "source": [
    "#discover which gender is searched more \n",
    "ri.groupby('subject_sex').search_conducted.mean()"
   ]
  },
  {
   "cell_type": "code",
   "execution_count": 79,
   "metadata": {},
   "outputs": [
    {
     "data": {
      "text/plain": [
       "subject_sex  reason_for_stop                 \n",
       "female       APB                                 0.165138\n",
       "             Call for Service                    0.042230\n",
       "             Equipment/Inspection Violation      0.040245\n",
       "             Motorist Assist/Courtesy            0.033133\n",
       "             Other Traffic Violation             0.038021\n",
       "             Registration Violation              0.054700\n",
       "             Seatbelt Violation                  0.017746\n",
       "             Special Detail/Directed Patrol      0.018045\n",
       "             Speeding                            0.007738\n",
       "             Suspicious Person                   0.216216\n",
       "             Violation of City/Town Ordinance    0.060185\n",
       "             Warrant                             0.148148\n",
       "male         APB                                 0.255319\n",
       "             Call for Service                    0.092419\n",
       "             Equipment/Inspection Violation      0.070916\n",
       "             Motorist Assist/Courtesy            0.089802\n",
       "             Other Traffic Violation             0.059156\n",
       "             Registration Violation              0.103589\n",
       "             Seatbelt Violation                  0.031705\n",
       "             Special Detail/Directed Patrol      0.010249\n",
       "             Speeding                            0.026630\n",
       "             Suspicious Person                   0.305970\n",
       "             Violation of City/Town Ordinance    0.073171\n",
       "             Warrant                             0.311111\n",
       "Name: search_conducted, dtype: float64"
      ]
     },
     "execution_count": 79,
     "metadata": {},
     "output_type": "execute_result"
    }
   ],
   "source": [
    "# discover which violation each gender is searched for\n",
    "ri.groupby(['subject_sex','reason_for_stop']).search_conducted.mean()"
   ]
  },
  {
   "cell_type": "code",
   "execution_count": 80,
   "metadata": {},
   "outputs": [
    {
     "data": {
      "text/plain": [
       "'Male Driver are searched twice more than Females,\\nFor all types of violations, the search rate is higher for males than for females, disproving our hypothesis.'"
      ]
     },
     "execution_count": 80,
     "metadata": {},
     "output_type": "execute_result"
    }
   ],
   "source": [
    "'''Male Driver are searched twice more than Females,\n",
    "For all types of violations, the search rate is higher for males than for females, disproving our hypothesis.'''"
   ]
  },
  {
   "cell_type": "code",
   "execution_count": 81,
   "metadata": {},
   "outputs": [
    {
     "data": {
      "text/plain": [
       "array([False, True], dtype=object)"
      ]
     },
     "execution_count": 81,
     "metadata": {},
     "output_type": "execute_result"
    }
   ],
   "source": [
    " ri.frisk_performed.unique()"
   ]
  },
  {
   "cell_type": "code",
   "execution_count": 82,
   "metadata": {},
   "outputs": [],
   "source": [
    "#changing data type from object to boolean to aggregate\n",
    "ri['frisk_performed']=ri.frisk_performed .astype('boolean')"
   ]
  },
  {
   "cell_type": "code",
   "execution_count": 83,
   "metadata": {},
   "outputs": [
    {
     "data": {
      "text/plain": [
       "subject_sex\n",
       "female    0.008213\n",
       "male      0.023594\n",
       "Name: frisk_performed, dtype: float64"
      ]
     },
     "execution_count": 83,
     "metadata": {},
     "output_type": "execute_result"
    }
   ],
   "source": [
    "ri.groupby('subject_sex').frisk_performed.mean()"
   ]
  },
  {
   "cell_type": "code",
   "execution_count": 84,
   "metadata": {},
   "outputs": [
    {
     "data": {
      "text/plain": [
       "subject_sex  reason_for_stop                 \n",
       "female       APB                                 0.055046\n",
       "             Call for Service                    0.014358\n",
       "             Equipment/Inspection Violation      0.018591\n",
       "             Motorist Assist/Courtesy            0.021084\n",
       "             Other Traffic Violation             0.017196\n",
       "             Registration Violation              0.019295\n",
       "             Seatbelt Violation                  0.006197\n",
       "             Special Detail/Directed Patrol      0.007519\n",
       "             Speeding                            0.003504\n",
       "             Suspicious Person                   0.121622\n",
       "             Violation of City/Town Ordinance    0.050926\n",
       "             Warrant                             0.111111\n",
       "male         APB                                 0.170213\n",
       "             Call for Service                    0.043727\n",
       "             Equipment/Inspection Violation      0.037640\n",
       "             Motorist Assist/Courtesy            0.048706\n",
       "             Other Traffic Violation             0.030615\n",
       "             Registration Violation              0.055638\n",
       "             Seatbelt Violation                  0.014952\n",
       "             Special Detail/Directed Patrol      0.004778\n",
       "             Speeding                            0.015153\n",
       "             Suspicious Person                   0.216418\n",
       "             Violation of City/Town Ordinance    0.053659\n",
       "             Warrant                             0.211111\n",
       "Name: frisk_performed, dtype: float64"
      ]
     },
     "execution_count": 84,
     "metadata": {},
     "output_type": "execute_result"
    }
   ],
   "source": [
    "ri.groupby(['subject_sex','reason_for_stop']).frisk_performed.mean()"
   ]
  },
  {
   "cell_type": "code",
   "execution_count": 85,
   "metadata": {},
   "outputs": [
    {
     "data": {
      "text/plain": [
       "Index(['raw_row_number', 'date', 'time', 'zone', 'subject_race', 'subject_sex',\n",
       "       'department_id', 'type', 'arrest_made', 'citation_issued',\n",
       "       'warning_issued', 'outcome', 'contraband_found', 'contraband_drugs',\n",
       "       'contraband_weapons', 'contraband_alcohol', 'contraband_other',\n",
       "       'frisk_performed', 'search_conducted', 'search_basis',\n",
       "       'reason_for_search', 'reason_for_stop', 'vehicle_make', 'vehicle_model',\n",
       "       'raw_BasisForStop', 'raw_OperatorRace', 'raw_OperatorSex',\n",
       "       'raw_ResultOfStop', 'raw_SearchResultOne'],\n",
       "      dtype='object')"
      ]
     },
     "execution_count": 85,
     "metadata": {},
     "output_type": "execute_result"
    }
   ],
   "source": [
    "ri.columns"
   ]
  },
  {
   "cell_type": "code",
   "execution_count": 86,
   "metadata": {},
   "outputs": [
    {
     "data": {
      "text/plain": [
       "NaN                                                         462822\n",
       "Incident to Arrest                                            6998\n",
       "Probable Cause                                                2063\n",
       "Odor of Drugs/Alcohol                                         1872\n",
       "Reasonable Suspicion                                          1141\n",
       "                                                             ...  \n",
       "Odor of Drugs/Alcohol|Inventory/Tow|Reasonable Suspicion         1\n",
       "Probable Cause|Inventory/Tow|Incident to Arrest                  1\n",
       "Plain View|Terry Frisk|Odor of Drugs/Alcohol                     1\n",
       "Plain View|Reasonable Suspicion|Terry Frisk                      1\n",
       "Terry Frisk|Reasonable Suspicion|Odor of Drugs/Alcohol           1\n",
       "Name: reason_for_search, Length: 189, dtype: int64"
      ]
     },
     "execution_count": 86,
     "metadata": {},
     "output_type": "execute_result"
    }
   ],
   "source": [
    "#Does gender affects who got searched beacouse of alcohol\n",
    "ri.reason_for_search.value_counts(dropna=False)"
   ]
  },
  {
   "cell_type": "code",
   "execution_count": 87,
   "metadata": {},
   "outputs": [
    {
     "data": {
      "text/plain": [
       "3254"
      ]
     },
     "execution_count": 87,
     "metadata": {},
     "output_type": "execute_result"
    }
   ],
   "source": [
    "ri['alcohol']=ri.reason_for_search.str.contains('Alcohol',na=False)\n",
    "ri.alcohol.sum()"
   ]
  },
  {
   "cell_type": "code",
   "execution_count": 88,
   "metadata": {},
   "outputs": [
    {
     "data": {
      "text/plain": [
       "0.18320009007994595"
      ]
     },
     "metadata": {},
     "output_type": "display_data"
    }
   ],
   "source": [
    "searched=ri[ri.search_conducted==True]\n",
    "\n",
    "display(searched.alcohol.mean())"
   ]
  },
  {
   "cell_type": "code",
   "execution_count": 89,
   "metadata": {},
   "outputs": [
    {
     "data": {
      "text/plain": [
       "subject_sex\n",
       "female    0.159414\n",
       "male      0.187022\n",
       "Name: alcohol, dtype: float64"
      ]
     },
     "metadata": {},
     "output_type": "display_data"
    }
   ],
   "source": [
    "display(searched.groupby('subject_sex')['alcohol'].mean())"
   ]
  },
  {
   "cell_type": "code",
   "execution_count": 90,
   "metadata": {},
   "outputs": [
    {
     "data": {
      "text/plain": [
       "\"The frisk rate is higher for males than for females, \\nthough we can't conclude that this difference is caused by the driver's gender.\""
      ]
     },
     "execution_count": 90,
     "metadata": {},
     "output_type": "execute_result"
    }
   ],
   "source": [
    "'''The frisk rate is higher for males than for females, \n",
    "though we can't conclude that this difference is caused by the driver's gender.'''"
   ]
  },
  {
   "cell_type": "code",
   "execution_count": 91,
   "metadata": {},
   "outputs": [],
   "source": [
    "ri['arrest_made']=ri.arrest_made.astype('bool')"
   ]
  },
  {
   "cell_type": "code",
   "execution_count": 92,
   "metadata": {},
   "outputs": [
    {
     "data": {
      "text/plain": [
       "dtype('bool')"
      ]
     },
     "execution_count": 92,
     "metadata": {},
     "output_type": "execute_result"
    }
   ],
   "source": [
    "ri.arrest_made.dtype"
   ]
  },
  {
   "cell_type": "code",
   "execution_count": 93,
   "metadata": {},
   "outputs": [
    {
     "name": "stdout",
     "output_type": "stream",
     "text": [
      "0.03454755048024903\n",
      "date_time\n",
      "0     0.052151\n",
      "1     0.067127\n",
      "2     0.061067\n",
      "3     0.052613\n",
      "4     0.053897\n",
      "5     0.032657\n",
      "6     0.012949\n",
      "7     0.013829\n",
      "8     0.019717\n",
      "9     0.024699\n",
      "10    0.025583\n",
      "11    0.027078\n",
      "12    0.031361\n",
      "13    0.030250\n",
      "14    0.031531\n",
      "15    0.032125\n",
      "16    0.033519\n",
      "17    0.038989\n",
      "18    0.039902\n",
      "19    0.031366\n",
      "20    0.039292\n",
      "21    0.059956\n",
      "22    0.043980\n",
      "23    0.045087\n",
      "Name: arrest_made, dtype: float64\n"
     ]
    }
   ],
   "source": [
    "# Does time of the day affect the arrest rate\n",
    "print(ri.arrest_made.mean())\n",
    "print(ri.groupby(ri.index.hour)['arrest_made'].mean())\n",
    "hourly_arrest_made=ri.groupby(ri.index.hour).arrest_made.mean()"
   ]
  },
  {
   "cell_type": "code",
   "execution_count": 94,
   "metadata": {},
   "outputs": [
    {
     "data": {
      "image/png": "[encoded data removed]",
      "text/plain": [
       "<Figure size 432x288 with 1 Axes>"
      ]
     },
     "metadata": {
      "needs_background": "light"
     },
     "output_type": "display_data"
    }
   ],
   "source": [
    "hourly_arrest_made.plot()\n",
    "plt.xlabel('Hour')\n",
    "plt.ylabel('Arrest Rate')\n",
    "plt.title('Arrest Rate by Time of Day')\n",
    "plt.show()"
   ]
  },
  {
   "cell_type": "code",
   "execution_count": 95,
   "metadata": {},
   "outputs": [
    {
     "data": {
      "text/plain": [
       "'The arrest rate has a significant spike overnight, and then dips in the early morning hours.'"
      ]
     },
     "execution_count": 95,
     "metadata": {},
     "output_type": "execute_result"
    }
   ],
   "source": [
    "'''The arrest rate has a significant spike overnight, and then dips in the early morning hours.'''"
   ]
  },
  {
   "cell_type": "code",
   "execution_count": 96,
   "metadata": {},
   "outputs": [
    {
     "name": "stdout",
     "output_type": "stream",
     "text": [
      "date_time\n",
      "2005-12-31    0.005142\n",
      "2006-12-31    0.003744\n",
      "2007-12-31    0.004906\n",
      "2008-12-31    0.004652\n",
      "2009-12-31    0.008363\n",
      "2010-12-31    0.007632\n",
      "2011-12-31    0.008773\n",
      "2012-12-31    0.008486\n",
      "2013-12-31    0.008253\n",
      "2014-12-31    0.008613\n",
      "2015-12-31    0.005597\n",
      "Freq: A-DEC, Name: drug_related, dtype: float64\n"
     ]
    }
   ],
   "source": [
    "ri['drug_related']=ri.reason_for_search.str.contains('Drugs',na=False)\n",
    "print(ri.drug_related.resample('A').mean())\n",
    "annual_drug_related=ri.drug_related.resample('A').mean()"
   ]
  },
  {
   "cell_type": "code",
   "execution_count": 97,
   "metadata": {},
   "outputs": [
    {
     "data": {
      "text/plain": [
       "<AxesSubplot:xlabel='date_time'>"
      ]
     },
     "execution_count": 97,
     "metadata": {},
     "output_type": "execute_result"
    },
    {
     "data": {
      "image/png": "[encoded data removed]",
      "text/plain": [
       "<Figure size 432x288 with 1 Axes>"
      ]
     },
     "metadata": {
      "needs_background": "light"
     },
     "output_type": "display_data"
    }
   ],
   "source": [
    "annual_drug_related.plot()"
   ]
  },
  {
   "cell_type": "code",
   "execution_count": 98,
   "metadata": {},
   "outputs": [
    {
     "data": {
      "text/plain": [
       "' The rate of drug-related stops nearly doubled over the course of 10 years. Why might that be the case?'"
      ]
     },
     "execution_count": 98,
     "metadata": {},
     "output_type": "execute_result"
    }
   ],
   "source": [
    "''' The rate of drug-related stops nearly doubled over the course of 10 years. Why might that be the case?'''"
   ]
  },
  {
   "cell_type": "code",
   "execution_count": 99,
   "metadata": {},
   "outputs": [
    {
     "data": {
      "text/plain": [
       "X4    125670\n",
       "K3    108868\n",
       "K2     97281\n",
       "X3     89431\n",
       "K1     46110\n",
       "X1     13224\n",
       "Name: zone, dtype: int64"
      ]
     },
     "execution_count": 99,
     "metadata": {},
     "output_type": "execute_result"
    }
   ],
   "source": [
    "ri.zone.value_counts()"
   ]
  },
  {
   "cell_type": "code",
   "execution_count": 100,
   "metadata": {},
   "outputs": [
    {
     "name": "stdout",
     "output_type": "stream",
     "text": [
      "reason_for_stop  APB  Call for Service  Equipment/Inspection Violation  \\\n",
      "zone                                                                     \n",
      "K1                32               281                            3786   \n",
      "K2               101              1036                           11285   \n",
      "K3               144              1227                           12959   \n",
      "X1                 6               198                            1725   \n",
      "X3                64              1328                           11520   \n",
      "X4               138              3535                           19975   \n",
      "\n",
      "reason_for_stop  Motorist Assist/Courtesy  Other Traffic Violation  \\\n",
      "zone                                                                 \n",
      "K1                                     78                     7127   \n",
      "K2                                    118                    16440   \n",
      "K3                                    258                    16218   \n",
      "X1                                     33                     3711   \n",
      "X3                                    323                    17178   \n",
      "X4                                    179                    29554   \n",
      "\n",
      "reason_for_stop  Registration Violation  Seatbelt Violation  \\\n",
      "zone                                                          \n",
      "K1                                  628                   1   \n",
      "K2                                 4056                2897   \n",
      "K3                                 3871                3660   \n",
      "X1                                  192                 451   \n",
      "X3                                 3532                4445   \n",
      "X4                                 7551                4870   \n",
      "\n",
      "reason_for_stop  Special Detail/Directed Patrol  Speeding  Suspicious Person  \\\n",
      "zone                                                                           \n",
      "K1                                         1009     33067                 72   \n",
      "K2                                         3539     57500                 59   \n",
      "K3                                         2011     68234                 68   \n",
      "X1                                          503      6393                  5   \n",
      "X3                                         1996     48687                 41   \n",
      "X4                                         4584     54855                 97   \n",
      "\n",
      "reason_for_stop  Violation of City/Town Ordinance  Warrant  \n",
      "zone                                                        \n",
      "K1                                             21        8  \n",
      "K2                                            237       13  \n",
      "K3                                            194       24  \n",
      "X1                                              6        1  \n",
      "X3                                            282       35  \n",
      "X4                                            296       36  \n",
      "reason_for_stop  APB  Call for Service  Equipment/Inspection Violation  \\\n",
      "zone                                                                     \n",
      "K1                32               281                            3786   \n",
      "K2               101              1036                           11285   \n",
      "K3               144              1227                           12959   \n",
      "\n",
      "reason_for_stop  Motorist Assist/Courtesy  Other Traffic Violation  \\\n",
      "zone                                                                 \n",
      "K1                                     78                     7127   \n",
      "K2                                    118                    16440   \n",
      "K3                                    258                    16218   \n",
      "\n",
      "reason_for_stop  Registration Violation  Seatbelt Violation  \\\n",
      "zone                                                          \n",
      "K1                                  628                   1   \n",
      "K2                                 4056                2897   \n",
      "K3                                 3871                3660   \n",
      "\n",
      "reason_for_stop  Special Detail/Directed Patrol  Speeding  Suspicious Person  \\\n",
      "zone                                                                           \n",
      "K1                                         1009     33067                 72   \n",
      "K2                                         3539     57500                 59   \n",
      "K3                                         2011     68234                 68   \n",
      "\n",
      "reason_for_stop  Violation of City/Town Ordinance  Warrant  \n",
      "zone                                                        \n",
      "K1                                             21        8  \n",
      "K2                                            237       13  \n",
      "K3                                            194       24  \n"
     ]
    }
   ],
   "source": [
    "# Create a frequency table of districts and violations\n",
    "print(pd.crosstab(ri.zone,ri.reason_for_stop))\n",
    "\n",
    "# Save the frequency table as 'all_zones'\n",
    "all_zones = pd.crosstab(ri.zone,ri.reason_for_stop)\n",
    "\n",
    "# Select rows 'Zone K1' through 'Zone K3'\n",
    "print(all_zones.loc['K1':'K3'])\n",
    "\n",
    "# Save the smaller table as 'k_zones'\n",
    "k_zones = all_zones.loc['K1':'K3']"
   ]
  },
  {
   "cell_type": "code",
   "execution_count": 101,
   "metadata": {},
   "outputs": [
    {
     "data": {
      "image/png": "[encoded data removed]",
      "text/plain": [
       "<Figure size 1080x720 with 1 Axes>"
      ]
     },
     "metadata": {
      "needs_background": "light"
     },
     "output_type": "display_data"
    }
   ],
   "source": [
    "k_zones.plot(kind='bar',figsize=(15,10))\n",
    "\n",
    "# Display the plot\n",
    "plt.show()"
   ]
  },
  {
   "cell_type": "code",
   "execution_count": 102,
   "metadata": {},
   "outputs": [
    {
     "data": {
      "text/plain": [
       "'The vast majority of traffic stops in all zones are for speeding, \\nand Zones K2 and K3 are remarkably similar to one another in terms of violations.'"
      ]
     },
     "execution_count": 102,
     "metadata": {},
     "output_type": "execute_result"
    }
   ],
   "source": [
    "'''The vast majority of traffic stops in all zones are for speeding, \n",
    "and Zones K2 and K3 are remarkably similar to one another in terms of violations.'''"
   ]
  },
  {
   "cell_type": "code",
   "execution_count": 103,
   "metadata": {},
   "outputs": [],
   "source": [
    "import requests\n",
    "r=requests.get('https://assets.datacamp.com/production/repositories/1497/datasets/02f3fb2d4416d3f6626e1117688e0386784e8e55/weather.csv')"
   ]
  },
  {
   "cell_type": "code",
   "execution_count": 104,
   "metadata": {},
   "outputs": [
    {
     "name": "stdout",
     "output_type": "stream",
     "text": [
      "       STATION        DATE  TAVG  TMIN  TMAX  AWND  WSF2  WT01  WT02  WT03  \\\n",
      "0  USW00014765  2005-01-01  44.0    35    53  8.95  25.1   1.0   NaN   NaN   \n",
      "1  USW00014765  2005-01-02  36.0    28    44  9.40  14.1   NaN   NaN   NaN   \n",
      "2  USW00014765  2005-01-03  49.0    44    53  6.93  17.0   1.0   NaN   NaN   \n",
      "3  USW00014765  2005-01-04  42.0    39    45  6.93  16.1   1.0   NaN   NaN   \n",
      "4  USW00014765  2005-01-05  36.0    28    43  7.83  17.0   1.0   NaN   NaN   \n",
      "\n",
      "   ...  WT11  WT13  WT14  WT15  WT16  WT17  WT18  WT19  WT21  WT22  \n",
      "0  ...   NaN   1.0   NaN   NaN   NaN   NaN   NaN   NaN   NaN   NaN  \n",
      "1  ...   NaN   NaN   NaN   NaN   1.0   NaN   1.0   NaN   NaN   NaN  \n",
      "2  ...   NaN   1.0   NaN   NaN   1.0   NaN   NaN   NaN   NaN   NaN  \n",
      "3  ...   NaN   1.0   1.0   NaN   1.0   NaN   NaN   NaN   NaN   NaN  \n",
      "4  ...   NaN   1.0   NaN   NaN   1.0   NaN   1.0   NaN   NaN   NaN  \n",
      "\n",
      "[5 rows x 27 columns]\n"
     ]
    }
   ],
   "source": [
    "# Import package\n",
    "from urllib.request import urlretrieve\n",
    "\n",
    "# Import pandas\n",
    "import pandas as pd\n",
    "\n",
    "# Assign url of file: url\n",
    "url='https://assets.datacamp.com/production/repositories/1497/datasets/02f3fb2d4416d3f6626e1117688e0386784e8e55/weather.csv'\n",
    "\n",
    "# Save file locally\n",
    "urlretrieve(url,'weather.csv')\n",
    "\n",
    "# Read file into a DataFrame and print its head\n",
    "df = pd.read_csv('weather.csv')\n",
    "print(df.head())"
   ]
  },
  {
   "cell_type": "code",
   "execution_count": 105,
   "metadata": {},
   "outputs": [],
   "source": [
    "#Exploring weather dataset"
   ]
  },
  {
   "cell_type": "code",
   "execution_count": 106,
   "metadata": {},
   "outputs": [
    {
     "name": "stdout",
     "output_type": "stream",
     "text": [
      "              TMIN         TAVG         TMAX\n",
      "count  4017.000000  1217.000000  4017.000000\n",
      "mean     43.484441    52.493016    61.268608\n",
      "std      17.020298    17.830714    18.199517\n",
      "min      -5.000000     6.000000    15.000000\n",
      "25%      30.000000    39.000000    47.000000\n",
      "50%      44.000000    54.000000    62.000000\n",
      "75%      58.000000    68.000000    77.000000\n",
      "max      77.000000    86.000000   102.000000\n"
     ]
    },
    {
     "data": {
      "image/png": "[encoded data removed]",
      "text/plain": [
       "<Figure size 1080x720 with 1 Axes>"
      ]
     },
     "metadata": {
      "needs_background": "light"
     },
     "output_type": "display_data"
    }
   ],
   "source": [
    "# Read 'weather.csv' into a DataFrame named 'weather'\n",
    "weather=pd.read_csv('weather.csv')\n",
    "\n",
    "# Describe the temperature columns\n",
    "print(weather[['TMIN','TAVG','TMAX']].describe())\n",
    "\n",
    "# Create a box plot of the temperature columns\n",
    "weather.plot(kind='box',figsize=(15,10))\n",
    "\n",
    "# Display the plot\n",
    "plt.show()"
   ]
  },
  {
   "cell_type": "code",
   "execution_count": 107,
   "metadata": {},
   "outputs": [
    {
     "name": "stdout",
     "output_type": "stream",
     "text": [
      "count    4017.000000\n",
      "mean       17.784167\n",
      "std         6.350720\n",
      "min         2.000000\n",
      "25%        14.000000\n",
      "50%        18.000000\n",
      "75%        22.000000\n",
      "max        43.000000\n",
      "Name: TDIFF, dtype: float64\n"
     ]
    },
    {
     "data": {
      "image/png": "[encoded data removed]",
      "text/plain": [
       "<Figure size 432x288 with 1 Axes>"
      ]
     },
     "metadata": {
      "needs_background": "light"
     },
     "output_type": "display_data"
    }
   ],
   "source": [
    "# Create a 'TDIFF' column that represents temperature difference\n",
    "weather['TDIFF']=weather['TMAX']-weather['TMIN']\n",
    "\n",
    "# Describe the 'TDIFF' column\n",
    "print(weather['TDIFF'].describe())\n",
    "\n",
    "# Create a histogram with 20 bins to visualize 'TDIFF'\n",
    "weather.TDIFF.plot(kind='hist',bins=20)\n",
    "\n",
    "# Display the plot\n",
    "plt.show()\n"
   ]
  },
  {
   "cell_type": "code",
   "execution_count": 108,
   "metadata": {},
   "outputs": [
    {
     "data": {
      "text/html": [
       "<div>\n",
       "<style scoped>\n",
       "    .dataframe tbody tr th:only-of-type {\n",
       "        vertical-align: middle;\n",
       "    }\n",
       "\n",
       "    .dataframe tbody tr th {\n",
       "        vertical-align: top;\n",
       "    }\n",
       "\n",
       "    .dataframe thead th {\n",
       "        text-align: right;\n",
       "    }\n",
       "</style>\n",
       "<table border=\"1\" class=\"dataframe\">\n",
       "  <thead>\n",
       "    <tr style=\"text-align: right;\">\n",
       "      <th></th>\n",
       "      <th>STATION</th>\n",
       "      <th>DATE</th>\n",
       "      <th>TAVG</th>\n",
       "      <th>TMIN</th>\n",
       "      <th>TMAX</th>\n",
       "      <th>AWND</th>\n",
       "      <th>WSF2</th>\n",
       "      <th>WT01</th>\n",
       "      <th>WT02</th>\n",
       "      <th>WT03</th>\n",
       "      <th>...</th>\n",
       "      <th>WT13</th>\n",
       "      <th>WT14</th>\n",
       "      <th>WT15</th>\n",
       "      <th>WT16</th>\n",
       "      <th>WT17</th>\n",
       "      <th>WT18</th>\n",
       "      <th>WT19</th>\n",
       "      <th>WT21</th>\n",
       "      <th>WT22</th>\n",
       "      <th>TDIFF</th>\n",
       "    </tr>\n",
       "  </thead>\n",
       "  <tbody>\n",
       "    <tr>\n",
       "      <th>0</th>\n",
       "      <td>USW00014765</td>\n",
       "      <td>2005-01-01</td>\n",
       "      <td>44.0</td>\n",
       "      <td>35</td>\n",
       "      <td>53</td>\n",
       "      <td>8.95</td>\n",
       "      <td>25.1</td>\n",
       "      <td>1.0</td>\n",
       "      <td>NaN</td>\n",
       "      <td>NaN</td>\n",
       "      <td>...</td>\n",
       "      <td>1.0</td>\n",
       "      <td>NaN</td>\n",
       "      <td>NaN</td>\n",
       "      <td>NaN</td>\n",
       "      <td>NaN</td>\n",
       "      <td>NaN</td>\n",
       "      <td>NaN</td>\n",
       "      <td>NaN</td>\n",
       "      <td>NaN</td>\n",
       "      <td>18</td>\n",
       "    </tr>\n",
       "    <tr>\n",
       "      <th>1</th>\n",
       "      <td>USW00014765</td>\n",
       "      <td>2005-01-02</td>\n",
       "      <td>36.0</td>\n",
       "      <td>28</td>\n",
       "      <td>44</td>\n",
       "      <td>9.40</td>\n",
       "      <td>14.1</td>\n",
       "      <td>NaN</td>\n",
       "      <td>NaN</td>\n",
       "      <td>NaN</td>\n",
       "      <td>...</td>\n",
       "      <td>NaN</td>\n",
       "      <td>NaN</td>\n",
       "      <td>NaN</td>\n",
       "      <td>1.0</td>\n",
       "      <td>NaN</td>\n",
       "      <td>1.0</td>\n",
       "      <td>NaN</td>\n",
       "      <td>NaN</td>\n",
       "      <td>NaN</td>\n",
       "      <td>16</td>\n",
       "    </tr>\n",
       "    <tr>\n",
       "      <th>2</th>\n",
       "      <td>USW00014765</td>\n",
       "      <td>2005-01-03</td>\n",
       "      <td>49.0</td>\n",
       "      <td>44</td>\n",
       "      <td>53</td>\n",
       "      <td>6.93</td>\n",
       "      <td>17.0</td>\n",
       "      <td>1.0</td>\n",
       "      <td>NaN</td>\n",
       "      <td>NaN</td>\n",
       "      <td>...</td>\n",
       "      <td>1.0</td>\n",
       "      <td>NaN</td>\n",
       "      <td>NaN</td>\n",
       "      <td>1.0</td>\n",
       "      <td>NaN</td>\n",
       "      <td>NaN</td>\n",
       "      <td>NaN</td>\n",
       "      <td>NaN</td>\n",
       "      <td>NaN</td>\n",
       "      <td>9</td>\n",
       "    </tr>\n",
       "    <tr>\n",
       "      <th>3</th>\n",
       "      <td>USW00014765</td>\n",
       "      <td>2005-01-04</td>\n",
       "      <td>42.0</td>\n",
       "      <td>39</td>\n",
       "      <td>45</td>\n",
       "      <td>6.93</td>\n",
       "      <td>16.1</td>\n",
       "      <td>1.0</td>\n",
       "      <td>NaN</td>\n",
       "      <td>NaN</td>\n",
       "      <td>...</td>\n",
       "      <td>1.0</td>\n",
       "      <td>1.0</td>\n",
       "      <td>NaN</td>\n",
       "      <td>1.0</td>\n",
       "      <td>NaN</td>\n",
       "      <td>NaN</td>\n",
       "      <td>NaN</td>\n",
       "      <td>NaN</td>\n",
       "      <td>NaN</td>\n",
       "      <td>6</td>\n",
       "    </tr>\n",
       "    <tr>\n",
       "      <th>4</th>\n",
       "      <td>USW00014765</td>\n",
       "      <td>2005-01-05</td>\n",
       "      <td>36.0</td>\n",
       "      <td>28</td>\n",
       "      <td>43</td>\n",
       "      <td>7.83</td>\n",
       "      <td>17.0</td>\n",
       "      <td>1.0</td>\n",
       "      <td>NaN</td>\n",
       "      <td>NaN</td>\n",
       "      <td>...</td>\n",
       "      <td>1.0</td>\n",
       "      <td>NaN</td>\n",
       "      <td>NaN</td>\n",
       "      <td>1.0</td>\n",
       "      <td>NaN</td>\n",
       "      <td>1.0</td>\n",
       "      <td>NaN</td>\n",
       "      <td>NaN</td>\n",
       "      <td>NaN</td>\n",
       "      <td>15</td>\n",
       "    </tr>\n",
       "    <tr>\n",
       "      <th>...</th>\n",
       "      <td>...</td>\n",
       "      <td>...</td>\n",
       "      <td>...</td>\n",
       "      <td>...</td>\n",
       "      <td>...</td>\n",
       "      <td>...</td>\n",
       "      <td>...</td>\n",
       "      <td>...</td>\n",
       "      <td>...</td>\n",
       "      <td>...</td>\n",
       "      <td>...</td>\n",
       "      <td>...</td>\n",
       "      <td>...</td>\n",
       "      <td>...</td>\n",
       "      <td>...</td>\n",
       "      <td>...</td>\n",
       "      <td>...</td>\n",
       "      <td>...</td>\n",
       "      <td>...</td>\n",
       "      <td>...</td>\n",
       "      <td>...</td>\n",
       "    </tr>\n",
       "    <tr>\n",
       "      <th>4012</th>\n",
       "      <td>USW00014765</td>\n",
       "      <td>2015-12-27</td>\n",
       "      <td>51.0</td>\n",
       "      <td>44</td>\n",
       "      <td>61</td>\n",
       "      <td>9.17</td>\n",
       "      <td>28.0</td>\n",
       "      <td>1.0</td>\n",
       "      <td>NaN</td>\n",
       "      <td>NaN</td>\n",
       "      <td>...</td>\n",
       "      <td>NaN</td>\n",
       "      <td>NaN</td>\n",
       "      <td>NaN</td>\n",
       "      <td>NaN</td>\n",
       "      <td>NaN</td>\n",
       "      <td>NaN</td>\n",
       "      <td>NaN</td>\n",
       "      <td>NaN</td>\n",
       "      <td>NaN</td>\n",
       "      <td>17</td>\n",
       "    </tr>\n",
       "    <tr>\n",
       "      <th>4013</th>\n",
       "      <td>USW00014765</td>\n",
       "      <td>2015-12-28</td>\n",
       "      <td>40.0</td>\n",
       "      <td>30</td>\n",
       "      <td>44</td>\n",
       "      <td>12.30</td>\n",
       "      <td>23.0</td>\n",
       "      <td>NaN</td>\n",
       "      <td>NaN</td>\n",
       "      <td>NaN</td>\n",
       "      <td>...</td>\n",
       "      <td>NaN</td>\n",
       "      <td>NaN</td>\n",
       "      <td>NaN</td>\n",
       "      <td>NaN</td>\n",
       "      <td>NaN</td>\n",
       "      <td>NaN</td>\n",
       "      <td>NaN</td>\n",
       "      <td>NaN</td>\n",
       "      <td>NaN</td>\n",
       "      <td>14</td>\n",
       "    </tr>\n",
       "    <tr>\n",
       "      <th>4014</th>\n",
       "      <td>USW00014765</td>\n",
       "      <td>2015-12-29</td>\n",
       "      <td>33.0</td>\n",
       "      <td>28</td>\n",
       "      <td>40</td>\n",
       "      <td>12.53</td>\n",
       "      <td>18.1</td>\n",
       "      <td>1.0</td>\n",
       "      <td>NaN</td>\n",
       "      <td>NaN</td>\n",
       "      <td>...</td>\n",
       "      <td>NaN</td>\n",
       "      <td>NaN</td>\n",
       "      <td>NaN</td>\n",
       "      <td>NaN</td>\n",
       "      <td>NaN</td>\n",
       "      <td>NaN</td>\n",
       "      <td>NaN</td>\n",
       "      <td>NaN</td>\n",
       "      <td>NaN</td>\n",
       "      <td>12</td>\n",
       "    </tr>\n",
       "    <tr>\n",
       "      <th>4015</th>\n",
       "      <td>USW00014765</td>\n",
       "      <td>2015-12-30</td>\n",
       "      <td>30.0</td>\n",
       "      <td>27</td>\n",
       "      <td>35</td>\n",
       "      <td>6.93</td>\n",
       "      <td>15.0</td>\n",
       "      <td>1.0</td>\n",
       "      <td>NaN</td>\n",
       "      <td>NaN</td>\n",
       "      <td>...</td>\n",
       "      <td>NaN</td>\n",
       "      <td>NaN</td>\n",
       "      <td>NaN</td>\n",
       "      <td>NaN</td>\n",
       "      <td>NaN</td>\n",
       "      <td>NaN</td>\n",
       "      <td>NaN</td>\n",
       "      <td>NaN</td>\n",
       "      <td>NaN</td>\n",
       "      <td>8</td>\n",
       "    </tr>\n",
       "    <tr>\n",
       "      <th>4016</th>\n",
       "      <td>USW00014765</td>\n",
       "      <td>2015-12-31</td>\n",
       "      <td>39.0</td>\n",
       "      <td>35</td>\n",
       "      <td>50</td>\n",
       "      <td>8.05</td>\n",
       "      <td>18.1</td>\n",
       "      <td>1.0</td>\n",
       "      <td>NaN</td>\n",
       "      <td>NaN</td>\n",
       "      <td>...</td>\n",
       "      <td>NaN</td>\n",
       "      <td>NaN</td>\n",
       "      <td>NaN</td>\n",
       "      <td>NaN</td>\n",
       "      <td>NaN</td>\n",
       "      <td>NaN</td>\n",
       "      <td>NaN</td>\n",
       "      <td>NaN</td>\n",
       "      <td>NaN</td>\n",
       "      <td>15</td>\n",
       "    </tr>\n",
       "  </tbody>\n",
       "</table>\n",
       "<p>4017 rows × 28 columns</p>\n",
       "</div>"
      ],
      "text/plain": [
       "          STATION        DATE  TAVG  TMIN  TMAX   AWND  WSF2  WT01  WT02  \\\n",
       "0     USW00014765  2005-01-01  44.0    35    53   8.95  25.1   1.0   NaN   \n",
       "1     USW00014765  2005-01-02  36.0    28    44   9.40  14.1   NaN   NaN   \n",
       "2     USW00014765  2005-01-03  49.0    44    53   6.93  17.0   1.0   NaN   \n",
       "3     USW00014765  2005-01-04  42.0    39    45   6.93  16.1   1.0   NaN   \n",
       "4     USW00014765  2005-01-05  36.0    28    43   7.83  17.0   1.0   NaN   \n",
       "...           ...         ...   ...   ...   ...    ...   ...   ...   ...   \n",
       "4012  USW00014765  2015-12-27  51.0    44    61   9.17  28.0   1.0   NaN   \n",
       "4013  USW00014765  2015-12-28  40.0    30    44  12.30  23.0   NaN   NaN   \n",
       "4014  USW00014765  2015-12-29  33.0    28    40  12.53  18.1   1.0   NaN   \n",
       "4015  USW00014765  2015-12-30  30.0    27    35   6.93  15.0   1.0   NaN   \n",
       "4016  USW00014765  2015-12-31  39.0    35    50   8.05  18.1   1.0   NaN   \n",
       "\n",
       "      WT03  ...  WT13  WT14  WT15  WT16  WT17  WT18  WT19  WT21  WT22  TDIFF  \n",
       "0      NaN  ...   1.0   NaN   NaN   NaN   NaN   NaN   NaN   NaN   NaN     18  \n",
       "1      NaN  ...   NaN   NaN   NaN   1.0   NaN   1.0   NaN   NaN   NaN     16  \n",
       "2      NaN  ...   1.0   NaN   NaN   1.0   NaN   NaN   NaN   NaN   NaN      9  \n",
       "3      NaN  ...   1.0   1.0   NaN   1.0   NaN   NaN   NaN   NaN   NaN      6  \n",
       "4      NaN  ...   1.0   NaN   NaN   1.0   NaN   1.0   NaN   NaN   NaN     15  \n",
       "...    ...  ...   ...   ...   ...   ...   ...   ...   ...   ...   ...    ...  \n",
       "4012   NaN  ...   NaN   NaN   NaN   NaN   NaN   NaN   NaN   NaN   NaN     17  \n",
       "4013   NaN  ...   NaN   NaN   NaN   NaN   NaN   NaN   NaN   NaN   NaN     14  \n",
       "4014   NaN  ...   NaN   NaN   NaN   NaN   NaN   NaN   NaN   NaN   NaN     12  \n",
       "4015   NaN  ...   NaN   NaN   NaN   NaN   NaN   NaN   NaN   NaN   NaN      8  \n",
       "4016   NaN  ...   NaN   NaN   NaN   NaN   NaN   NaN   NaN   NaN   NaN     15  \n",
       "\n",
       "[4017 rows x 28 columns]"
      ]
     },
     "execution_count": 108,
     "metadata": {},
     "output_type": "execute_result"
    }
   ],
   "source": [
    "weather"
   ]
  },
  {
   "cell_type": "code",
   "execution_count": 109,
   "metadata": {},
   "outputs": [
    {
     "data": {
      "image/png": "[encoded data removed]",
      "text/plain": [
       "<Figure size 432x288 with 1 Axes>"
      ]
     },
     "metadata": {
      "needs_background": "light"
     },
     "output_type": "display_data"
    }
   ],
   "source": [
    "# Copy 'WT01' through 'WT22' to a new DataFrame\n",
    "WT=weather.loc[:,'WT01':'WT22']\n",
    "WT\n",
    "\n",
    "# Calculate the sum of each row in 'WT'\n",
    "weather['bad_conditions']=WT.sum(axis='columns')\n",
    "\n",
    "# Replace missing values in 'bad_conditions' with '0'\n",
    "weather['bad_conditions']=weather.bad_conditions.fillna(0).astype(int)\n",
    "\n",
    "# Create a histogram to visualize 'bad_conditions'\n",
    "weather.bad_conditions.plot(kind='hist')\n",
    "\n",
    "# Display the plot\n",
    "plt.show()"
   ]
  },
  {
   "cell_type": "code",
   "execution_count": 110,
   "metadata": {},
   "outputs": [
    {
     "data": {
      "text/plain": [
       "\"It looks like many days didn't have any bad weather conditions,\\nand only a small portion of days had more than four bad weather conditions.\""
      ]
     },
     "execution_count": 110,
     "metadata": {},
     "output_type": "execute_result"
    }
   ],
   "source": [
    "'''It looks like many days didn't have any bad weather conditions,\n",
    "and only a small portion of days had more than four bad weather conditions.'''"
   ]
  },
  {
   "cell_type": "code",
   "execution_count": 111,
   "metadata": {},
   "outputs": [
    {
     "name": "stdout",
     "output_type": "stream",
     "text": [
      "0    1749\n",
      "1     613\n",
      "2     367\n",
      "3     380\n",
      "4     476\n",
      "5     282\n",
      "6     101\n",
      "7      41\n",
      "8       4\n",
      "9       4\n",
      "Name: bad_conditions, dtype: int64\n",
      "bad      1836\n",
      "good     1749\n",
      "worse     432\n",
      "Name: rating, dtype: int64\n"
     ]
    }
   ],
   "source": [
    "# Count the unique values in 'bad_conditions' and sort the index\n",
    "print(weather.bad_conditions.value_counts().sort_index())\n",
    "\n",
    "# Create a dictionary that maps integers to strings\n",
    "mapping = {0:'good', 1:'bad', 2:'bad', 3:'bad',4:'bad',5:'worse',6:'worse',7:'worse',8:'worse',9:'worse'}\n",
    "\n",
    "# Convert the 'bad_conditions' integers to strings using the 'mapping'\n",
    "weather['rating'] = weather.bad_conditions.map(mapping)\n",
    "\n",
    "# Count the unique values in 'rating'\n",
    "print(weather.rating.value_counts())\n"
   ]
  },
  {
   "cell_type": "code",
   "execution_count": 112,
   "metadata": {},
   "outputs": [
    {
     "name": "stdout",
     "output_type": "stream",
     "text": [
      "0    bad\n",
      "1    bad\n",
      "2    bad\n",
      "3    bad\n",
      "4    bad\n",
      "Name: rating, dtype: category\n",
      "Categories (3, object): ['good' < 'bad' < 'worse']\n"
     ]
    }
   ],
   "source": [
    "# Specify the logical order of the weather ratings\n",
    "cats = pd.CategoricalDtype(['good','bad','worse'], ordered=True)\n",
    "\n",
    "# Change the data type of 'rating' to category\n",
    "weather['rating'] = weather.rating.astype(cats)\n",
    "\n",
    "# Examine the head of 'rating'\n",
    "print(weather.rating.head())"
   ]
  },
  {
   "cell_type": "code",
   "execution_count": 114,
   "metadata": {},
   "outputs": [
    {
     "name": "stdout",
     "output_type": "stream",
     "text": [
      "   index           date_time  raw_row_number        date      time zone  \\\n",
      "0      0 2005-11-22 11:15:00               1  2005-11-22  11:15:00   X3   \n",
      "1      1 2005-10-01 12:20:00               2  2005-10-01  12:20:00   X3   \n",
      "2      2 2005-10-01 12:30:00               3  2005-10-01  12:30:00   X3   \n",
      "3      3 2005-10-01 12:50:00               4  2005-10-01  12:50:00   X3   \n",
      "4      4 2005-10-01 13:10:00               5  2005-10-01  13:10:00   X3   \n",
      "\n",
      "  subject_race subject_sex department_id       type  ...  reason_for_stop  \\\n",
      "0        white        male           200  vehicular  ...         Speeding   \n",
      "1        white        male           200  vehicular  ...         Speeding   \n",
      "2        white      female           200  vehicular  ...         Speeding   \n",
      "3        white        male           200  vehicular  ...         Speeding   \n",
      "4        white      female           200  vehicular  ...         Speeding   \n",
      "\n",
      "  vehicle_make vehicle_model raw_BasisForStop raw_OperatorRace  \\\n",
      "0          NaN           NaN               SP                W   \n",
      "1          NaN           NaN               SP                W   \n",
      "2          NaN           NaN               SP                W   \n",
      "3          NaN           NaN               SP                W   \n",
      "4          NaN           NaN               SP                W   \n",
      "\n",
      "  raw_OperatorSex raw_ResultOfStop raw_SearchResultOne alcohol  drug_related  \n",
      "0               M                M                 NaN   False         False  \n",
      "1               M                M                 NaN   False         False  \n",
      "2               F                M                 NaN   False         False  \n",
      "3               M                M                 NaN   False         False  \n",
      "4               F                M                 NaN   False         False  \n",
      "\n",
      "[5 rows x 33 columns]\n",
      "         DATE rating\n",
      "0  2005-01-01    bad\n",
      "1  2005-01-02    bad\n",
      "2  2005-01-03    bad\n",
      "3  2005-01-04    bad\n",
      "4  2005-01-05    bad\n"
     ]
    }
   ],
   "source": [
    "# Reset the index of 'ri'\n",
    "ri.reset_index(inplace=True)\n",
    "# Examine the head of 'ri'\n",
    "print(ri.head())\n",
    "\n",
    "# Create a DataFrame from the 'DATE' and 'rating' columns\n",
    "weather_rating = weather[['DATE','rating']]\n",
    "\n",
    "# Examine the head of 'weather_rating'\n",
    "print(weather_rating.head())"
   ]
  },
  {
   "cell_type": "code",
   "execution_count": 128,
   "metadata": {
    "scrolled": true
   },
   "outputs": [
    {
     "data": {
      "text/html": [
       "<div>\n",
       "<style scoped>\n",
       "    .dataframe tbody tr th:only-of-type {\n",
       "        vertical-align: middle;\n",
       "    }\n",
       "\n",
       "    .dataframe tbody tr th {\n",
       "        vertical-align: top;\n",
       "    }\n",
       "\n",
       "    .dataframe thead th {\n",
       "        text-align: right;\n",
       "    }\n",
       "</style>\n",
       "<table border=\"1\" class=\"dataframe\">\n",
       "  <thead>\n",
       "    <tr style=\"text-align: right;\">\n",
       "      <th></th>\n",
       "      <th>index</th>\n",
       "      <th>date_time</th>\n",
       "      <th>raw_row_number</th>\n",
       "      <th>date</th>\n",
       "      <th>time</th>\n",
       "      <th>zone</th>\n",
       "      <th>subject_race</th>\n",
       "      <th>subject_sex</th>\n",
       "      <th>department_id</th>\n",
       "      <th>type</th>\n",
       "      <th>...</th>\n",
       "      <th>vehicle_model</th>\n",
       "      <th>raw_BasisForStop</th>\n",
       "      <th>raw_OperatorRace</th>\n",
       "      <th>raw_OperatorSex</th>\n",
       "      <th>raw_ResultOfStop</th>\n",
       "      <th>raw_SearchResultOne</th>\n",
       "      <th>alcohol</th>\n",
       "      <th>drug_related</th>\n",
       "      <th>DATE</th>\n",
       "      <th>rating</th>\n",
       "    </tr>\n",
       "  </thead>\n",
       "  <tbody>\n",
       "    <tr>\n",
       "      <th>0</th>\n",
       "      <td>0</td>\n",
       "      <td>2005-11-22 11:15:00</td>\n",
       "      <td>1</td>\n",
       "      <td>2005-11-22</td>\n",
       "      <td>11:15:00</td>\n",
       "      <td>X3</td>\n",
       "      <td>white</td>\n",
       "      <td>male</td>\n",
       "      <td>200</td>\n",
       "      <td>vehicular</td>\n",
       "      <td>...</td>\n",
       "      <td>NaN</td>\n",
       "      <td>SP</td>\n",
       "      <td>W</td>\n",
       "      <td>M</td>\n",
       "      <td>M</td>\n",
       "      <td>NaN</td>\n",
       "      <td>False</td>\n",
       "      <td>False</td>\n",
       "      <td>2005-11-22</td>\n",
       "      <td>bad</td>\n",
       "    </tr>\n",
       "    <tr>\n",
       "      <th>1</th>\n",
       "      <td>1</td>\n",
       "      <td>2005-10-01 12:20:00</td>\n",
       "      <td>2</td>\n",
       "      <td>2005-10-01</td>\n",
       "      <td>12:20:00</td>\n",
       "      <td>X3</td>\n",
       "      <td>white</td>\n",
       "      <td>male</td>\n",
       "      <td>200</td>\n",
       "      <td>vehicular</td>\n",
       "      <td>...</td>\n",
       "      <td>NaN</td>\n",
       "      <td>SP</td>\n",
       "      <td>W</td>\n",
       "      <td>M</td>\n",
       "      <td>M</td>\n",
       "      <td>NaN</td>\n",
       "      <td>False</td>\n",
       "      <td>False</td>\n",
       "      <td>2005-10-01</td>\n",
       "      <td>good</td>\n",
       "    </tr>\n",
       "    <tr>\n",
       "      <th>2</th>\n",
       "      <td>2</td>\n",
       "      <td>2005-10-01 12:30:00</td>\n",
       "      <td>3</td>\n",
       "      <td>2005-10-01</td>\n",
       "      <td>12:30:00</td>\n",
       "      <td>X3</td>\n",
       "      <td>white</td>\n",
       "      <td>female</td>\n",
       "      <td>200</td>\n",
       "      <td>vehicular</td>\n",
       "      <td>...</td>\n",
       "      <td>NaN</td>\n",
       "      <td>SP</td>\n",
       "      <td>W</td>\n",
       "      <td>F</td>\n",
       "      <td>M</td>\n",
       "      <td>NaN</td>\n",
       "      <td>False</td>\n",
       "      <td>False</td>\n",
       "      <td>2005-10-01</td>\n",
       "      <td>good</td>\n",
       "    </tr>\n",
       "    <tr>\n",
       "      <th>3</th>\n",
       "      <td>3</td>\n",
       "      <td>2005-10-01 12:50:00</td>\n",
       "      <td>4</td>\n",
       "      <td>2005-10-01</td>\n",
       "      <td>12:50:00</td>\n",
       "      <td>X3</td>\n",
       "      <td>white</td>\n",
       "      <td>male</td>\n",
       "      <td>200</td>\n",
       "      <td>vehicular</td>\n",
       "      <td>...</td>\n",
       "      <td>NaN</td>\n",
       "      <td>SP</td>\n",
       "      <td>W</td>\n",
       "      <td>M</td>\n",
       "      <td>M</td>\n",
       "      <td>NaN</td>\n",
       "      <td>False</td>\n",
       "      <td>False</td>\n",
       "      <td>2005-10-01</td>\n",
       "      <td>good</td>\n",
       "    </tr>\n",
       "    <tr>\n",
       "      <th>4</th>\n",
       "      <td>4</td>\n",
       "      <td>2005-10-01 13:10:00</td>\n",
       "      <td>5</td>\n",
       "      <td>2005-10-01</td>\n",
       "      <td>13:10:00</td>\n",
       "      <td>X3</td>\n",
       "      <td>white</td>\n",
       "      <td>female</td>\n",
       "      <td>200</td>\n",
       "      <td>vehicular</td>\n",
       "      <td>...</td>\n",
       "      <td>NaN</td>\n",
       "      <td>SP</td>\n",
       "      <td>W</td>\n",
       "      <td>F</td>\n",
       "      <td>M</td>\n",
       "      <td>NaN</td>\n",
       "      <td>False</td>\n",
       "      <td>False</td>\n",
       "      <td>2005-10-01</td>\n",
       "      <td>good</td>\n",
       "    </tr>\n",
       "  </tbody>\n",
       "</table>\n",
       "<p>5 rows × 35 columns</p>\n",
       "</div>"
      ],
      "text/plain": [
       "   index           date_time  raw_row_number        date      time zone  \\\n",
       "0      0 2005-11-22 11:15:00               1  2005-11-22  11:15:00   X3   \n",
       "1      1 2005-10-01 12:20:00               2  2005-10-01  12:20:00   X3   \n",
       "2      2 2005-10-01 12:30:00               3  2005-10-01  12:30:00   X3   \n",
       "3      3 2005-10-01 12:50:00               4  2005-10-01  12:50:00   X3   \n",
       "4      4 2005-10-01 13:10:00               5  2005-10-01  13:10:00   X3   \n",
       "\n",
       "  subject_race subject_sex department_id       type  ...  vehicle_model  \\\n",
       "0        white        male           200  vehicular  ...            NaN   \n",
       "1        white        male           200  vehicular  ...            NaN   \n",
       "2        white      female           200  vehicular  ...            NaN   \n",
       "3        white        male           200  vehicular  ...            NaN   \n",
       "4        white      female           200  vehicular  ...            NaN   \n",
       "\n",
       "  raw_BasisForStop raw_OperatorRace raw_OperatorSex raw_ResultOfStop  \\\n",
       "0               SP                W               M                M   \n",
       "1               SP                W               M                M   \n",
       "2               SP                W               F                M   \n",
       "3               SP                W               M                M   \n",
       "4               SP                W               F                M   \n",
       "\n",
       "  raw_SearchResultOne alcohol drug_related        DATE  rating  \n",
       "0                 NaN   False        False  2005-11-22     bad  \n",
       "1                 NaN   False        False  2005-10-01    good  \n",
       "2                 NaN   False        False  2005-10-01    good  \n",
       "3                 NaN   False        False  2005-10-01    good  \n",
       "4                 NaN   False        False  2005-10-01    good  \n",
       "\n",
       "[5 rows x 35 columns]"
      ]
     },
     "execution_count": 128,
     "metadata": {},
     "output_type": "execute_result"
    }
   ],
   "source": [
    "ri_weather=ri.merge(weather_rating, left_on='date', right_on='DATE', how='left')\n",
    "ri_weather.head()"
   ]
  },
  {
   "cell_type": "code",
   "execution_count": 130,
   "metadata": {},
   "outputs": [],
   "source": [
    "# Set 'stop_datetime' as the index of 'ri_weather'\n",
    "ri_weather.set_index('date_time', inplace=True)"
   ]
  },
  {
   "cell_type": "code",
   "execution_count": null,
   "metadata": {},
   "outputs": [],
   "source": [
    "'''Does weather affect the arrest rate''' "
   ]
  },
  {
   "cell_type": "code",
   "execution_count": 132,
   "metadata": {},
   "outputs": [
    {
     "data": {
      "text/plain": [
       "index                       0\n",
       "raw_row_number              0\n",
       "date                        0\n",
       "time                        0\n",
       "zone                        0\n",
       "subject_race                0\n",
       "subject_sex                 0\n",
       "department_id               0\n",
       "type                        0\n",
       "arrest_made                 0\n",
       "citation_issued             0\n",
       "warning_issued              0\n",
       "outcome                  6763\n",
       "contraband_found       462822\n",
       "contraband_drugs       464596\n",
       "contraband_weapons     468789\n",
       "contraband_alcohol     479367\n",
       "contraband_other       462822\n",
       "frisk_performed             0\n",
       "search_conducted            0\n",
       "search_basis           462822\n",
       "reason_for_search      462822\n",
       "reason_for_stop             0\n",
       "vehicle_make           162525\n",
       "vehicle_model          250553\n",
       "raw_BasisForStop            0\n",
       "raw_OperatorRace            0\n",
       "raw_OperatorSex             0\n",
       "raw_ResultOfStop            0\n",
       "raw_SearchResultOne    462822\n",
       "alcohol                     0\n",
       "drug_related                0\n",
       "DATE                        0\n",
       "rating                      0\n",
       "dtype: int64"
      ]
     },
     "execution_count": 132,
     "metadata": {},
     "output_type": "execute_result"
    }
   ],
   "source": [
    "ri_weather.isnull().sum()"
   ]
  },
  {
   "cell_type": "code",
   "execution_count": 146,
   "metadata": {},
   "outputs": [
    {
     "data": {
      "text/plain": [
       "<AxesSubplot:xlabel='rating'>"
      ]
     },
     "execution_count": 146,
     "metadata": {},
     "output_type": "execute_result"
    },
    {
     "data": {
      "image/png": "[encoded data removed]",
      "text/plain": [
       "<Figure size 432x288 with 1 Axes>"
      ]
     },
     "metadata": {
      "needs_background": "light"
     },
     "output_type": "display_data"
    }
   ],
   "source": [
    "arrest_rate=ri_weather.groupby('rating').arrest_made.mean()\n",
    "arrest_rate.plot(kind='bar')"
   ]
  },
  {
   "cell_type": "code",
   "execution_count": 148,
   "metadata": {},
   "outputs": [
    {
     "data": {
      "text/plain": [
       "rating  reason_for_stop                 \n",
       "good    APB                                 0.239496\n",
       "        Call for Service                    0.175439\n",
       "        Equipment/Inspection Violation      0.056484\n",
       "        Motorist Assist/Courtesy            0.116009\n",
       "        Other Traffic Violation             0.055621\n",
       "        Registration Violation              0.076831\n",
       "        Seatbelt Violation                  0.025503\n",
       "        Special Detail/Directed Patrol      0.009456\n",
       "        Speeding                            0.013214\n",
       "        Suspicious Person                   0.229299\n",
       "        Violation of City/Town Ordinance    0.058065\n",
       "        Warrant                             0.694915\n",
       "bad     APB                                 0.284314\n",
       "        Call for Service                    0.187429\n",
       "        Equipment/Inspection Violation      0.059704\n",
       "        Motorist Assist/Courtesy            0.103604\n",
       "        Other Traffic Violation             0.057976\n",
       "        Registration Violation              0.092749\n",
       "        Seatbelt Violation                  0.028845\n",
       "        Special Detail/Directed Patrol      0.009619\n",
       "        Speeding                            0.013368\n",
       "        Suspicious Person                   0.263158\n",
       "        Violation of City/Town Ordinance    0.048523\n",
       "        Warrant                             0.500000\n",
       "worse   APB                                 0.372093\n",
       "        Call for Service                    0.177381\n",
       "        Equipment/Inspection Violation      0.094373\n",
       "        Motorist Assist/Courtesy            0.070175\n",
       "        Other Traffic Violation             0.062249\n",
       "        Registration Violation              0.098673\n",
       "        Seatbelt Violation                  0.000000\n",
       "        Special Detail/Directed Patrol      0.004739\n",
       "        Speeding                            0.016600\n",
       "        Suspicious Person                   0.181818\n",
       "        Violation of City/Town Ordinance    0.092784\n",
       "        Warrant                             0.400000\n",
       "Name: arrest_made, dtype: float64"
      ]
     },
     "execution_count": 148,
     "metadata": {},
     "output_type": "execute_result"
    }
   ],
   "source": [
    "ri_weather.groupby(['rating','reason_for_stop']).arrest_made.mean()"
   ]
  },
  {
   "cell_type": "code",
   "execution_count": 150,
   "metadata": {},
   "outputs": [
    {
     "name": "stdout",
     "output_type": "stream",
     "text": [
      "rating                                good       bad     worse\n",
      "reason_for_stop                                               \n",
      "APB                               0.239496  0.284314  0.372093\n",
      "Call for Service                  0.175439  0.187429  0.177381\n",
      "Equipment/Inspection Violation    0.056484  0.059704  0.094373\n",
      "Motorist Assist/Courtesy          0.116009  0.103604  0.070175\n",
      "Other Traffic Violation           0.055621  0.057976  0.062249\n",
      "Registration Violation            0.076831  0.092749  0.098673\n",
      "Seatbelt Violation                0.025503  0.028845  0.000000\n",
      "Special Detail/Directed Patrol    0.009456  0.009619  0.004739\n",
      "Speeding                          0.013214  0.013368  0.016600\n",
      "Suspicious Person                 0.229299  0.263158  0.181818\n",
      "Violation of City/Town Ordinance  0.058065  0.048523  0.092784\n",
      "Warrant                           0.694915  0.500000  0.400000\n"
     ]
    }
   ],
   "source": [
    "# Create the same DataFrame using a pivot table\n",
    "print(ri_weather.pivot_table(index='reason_for_stop', columns='rating', values='arrest_made'))"
   ]
  },
  {
   "cell_type": "code",
   "execution_count": null,
   "metadata": {},
   "outputs": [],
   "source": [
    "'''The arrest rate increases slightly as the weather gets worse, \n",
    "This doesn't prove a causal link, but it's quite an interesting result!'''"
   ]
  }
 ],
 "metadata": {
  "kernelspec": {
   "display_name": "Python 3",
   "language": "python",
   "name": "python3"
  },
  "language_info": {
   "codemirror_mode": {
    "name": "ipython",
    "version": 3
   },
   "file_extension": ".py",
   "mimetype": "text/x-python",
   "name": "python",
   "nbconvert_exporter": "python",
   "pygments_lexer": "ipython3",
   "version": "3.8.5"
  }
 },
 "nbformat": 4,
 "nbformat_minor": 4
}
